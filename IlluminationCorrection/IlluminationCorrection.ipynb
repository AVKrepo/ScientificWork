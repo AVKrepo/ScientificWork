{
 "cells": [
  {
   "cell_type": "code",
   "execution_count": 1,
   "metadata": {},
   "outputs": [],
   "source": [
    "import numpy as np\n",
    "import cv2\n",
    "from matplotlib import pyplot as plt\n",
    "import os\n",
    "import math\n",
    "from sklearn.cluster import KMeans\n",
    "%matplotlib inline\n",
    "import sys"
   ]
  },
  {
   "cell_type": "code",
   "execution_count": 2,
   "metadata": {},
   "outputs": [],
   "source": [
    "sys.path.append(\"..\")\n",
    "from framework import perspective_transform\n",
    "from framework import visualize"
   ]
  },
  {
   "cell_type": "code",
   "execution_count": 3,
   "metadata": {},
   "outputs": [],
   "source": [
    "data_path = \"/home/avk/study/1C/Diplom/IlluminationCorrection/SamplesData/\""
   ]
  },
  {
   "cell_type": "code",
   "execution_count": 13,
   "metadata": {},
   "outputs": [
    {
     "data": {
      "text/plain": [
       "(0,\n",
       " '/home/avk/study/1C/Diplom/IlluminationCorrection/SamplesData/IMG_20190317_170456.jpg')"
      ]
     },
     "execution_count": 13,
     "metadata": {},
     "output_type": "execute_result"
    }
   ],
   "source": [
    "for file_num, filename in enumerate(os.listdir(data_path)):\n",
    "    full_file_path = os.path.join(data_path, filename)\n",
    "    if file_num == 0:\n",
    "        break\n",
    "file_num, full_file_path"
   ]
  },
  {
   "cell_type": "code",
   "execution_count": 5,
   "metadata": {},
   "outputs": [
    {
     "data": {
      "text/plain": [
       "(4032, 3016, 3)"
      ]
     },
     "execution_count": 5,
     "metadata": {},
     "output_type": "execute_result"
    }
   ],
   "source": [
    "initial_image = cv2.imread(full_file_path)\n",
    "# visualize.visualize_image(initial_image)\n",
    "initial_image.shape"
   ]
  },
  {
   "cell_type": "code",
   "execution_count": 6,
   "metadata": {},
   "outputs": [],
   "source": [
    "img = initial_image"
   ]
  },
  {
   "cell_type": "code",
   "execution_count": 7,
   "metadata": {},
   "outputs": [],
   "source": [
    "visualize.visualize_image(img)"
   ]
  },
  {
   "cell_type": "code",
   "execution_count": 8,
   "metadata": {},
   "outputs": [],
   "source": [
    "#-----Converting image to LAB Color model----------------------------------- \n",
    "lab= cv2.cvtColor(img, cv2.COLOR_BGR2LAB)\n",
    "# visualize.visualize_image(lab)"
   ]
  },
  {
   "cell_type": "code",
   "execution_count": 9,
   "metadata": {},
   "outputs": [
    {
     "name": "stdout",
     "output_type": "stream",
     "text": [
      "[[150 150 150 ... 148 149 148]\n",
      " [150 150 150 ... 148 148 148]\n",
      " [150 150 149 ... 148 148 148]\n",
      " ...\n",
      " [146 146 146 ... 156 156 156]\n",
      " [146 146 146 ... 156 156 156]\n",
      " [146 146 146 ... 156 156 156]]\n"
     ]
    }
   ],
   "source": [
    "#-----Splitting the LAB image to different channels-------------------------\n",
    "l, a, b = cv2.split(lab)\n",
    "visualize.visualize_image(l, 'l_channel')\n",
    "# visualize.visualize_image(a, 'a_channel')\n",
    "# visualize.visualize_image(b, 'b_channel')\n",
    "# l.fill(l.mean())\n",
    "l = np.rint((l - l.mean()) / 10 + l.mean()).astype(np.uint8)\n",
    "print(l)"
   ]
  },
  {
   "cell_type": "code",
   "execution_count": 10,
   "metadata": {},
   "outputs": [],
   "source": [
    "#-----Applying CLAHE to L-channel-------------------------------------------\n",
    "# clahe = cv2.createCLAHE(clipLimit=5, tileGridSize=(8,8))\n",
    "# cl = clahe.apply(l)\n",
    "# cl = l\n",
    "cl = cv2.equalizeHist(l)\n",
    "visualize.visualize_image(cl, 'CLAHE output ')"
   ]
  },
  {
   "cell_type": "code",
   "execution_count": 11,
   "metadata": {},
   "outputs": [],
   "source": [
    "#-----Merge the CLAHE enhanced L-channel with the a and b channel-----------\n",
    "limg = cv2.merge((cl, a, b))\n",
    "# visualize.visualize_image(limg, 'limg ')"
   ]
  },
  {
   "cell_type": "code",
   "execution_count": 12,
   "metadata": {},
   "outputs": [],
   "source": [
    "#-----Converting image from LAB Color model to RGB model--------------------\n",
    "final = cv2.cvtColor(limg, cv2.COLOR_LAB2BGR)\n",
    "visualize.visualize_image(final, 'final ')"
   ]
  },
  {
   "cell_type": "code",
   "execution_count": null,
   "metadata": {},
   "outputs": [],
   "source": []
  },
  {
   "cell_type": "code",
   "execution_count": null,
   "metadata": {},
   "outputs": [],
   "source": []
  },
  {
   "cell_type": "code",
   "execution_count": null,
   "metadata": {},
   "outputs": [],
   "source": []
  },
  {
   "cell_type": "code",
   "execution_count": null,
   "metadata": {},
   "outputs": [],
   "source": []
  },
  {
   "cell_type": "code",
   "execution_count": null,
   "metadata": {},
   "outputs": [],
   "source": []
  }
 ],
 "metadata": {
  "kernelspec": {
   "display_name": "Python 3",
   "language": "python",
   "name": "python3"
  },
  "language_info": {
   "codemirror_mode": {
    "name": "ipython",
    "version": 3
   },
   "file_extension": ".py",
   "mimetype": "text/x-python",
   "name": "python",
   "nbconvert_exporter": "python",
   "pygments_lexer": "ipython3",
   "version": "3.7.3"
  }
 },
 "nbformat": 4,
 "nbformat_minor": 2
}
