{
 "cells": [
  {
   "cell_type": "code",
   "execution_count": 1,
   "metadata": {},
   "outputs": [],
   "source": [
    "import numpy as np\n",
    "import cv2\n",
    "from matplotlib import pyplot as plt\n",
    "import os\n",
    "import math\n",
    "from sklearn.cluster import KMeans\n",
    "%matplotlib inline\n",
    "import sys"
   ]
  },
  {
   "cell_type": "code",
   "execution_count": 2,
   "metadata": {},
   "outputs": [],
   "source": [
    "sys.path.append(\"..\")\n",
    "from framework import perspective_transform\n",
    "from framework import visualize"
   ]
  },
  {
   "cell_type": "code",
   "execution_count": 3,
   "metadata": {},
   "outputs": [],
   "source": [
    "# data_path = \"/home/avk/study/1C/Diplom/IlluminationCorrection/SamplesData/\""
   ]
  },
  {
   "cell_type": "code",
   "execution_count": 4,
   "metadata": {},
   "outputs": [],
   "source": [
    "# for file_num, filename in enumerate(os.listdir(data_path)):\n",
    "#     full_file_path = os.path.join(data_path, filename)\n",
    "#     if file_num == 0:\n",
    "#         break\n",
    "# file_num, full_file_path"
   ]
  },
  {
   "cell_type": "code",
   "execution_count": 5,
   "metadata": {},
   "outputs": [],
   "source": [
    "full_file_path = \"/home/avk/study/1C/Diplom/Pandore/pandore1/bin/experiments/examples/example4/0.jpg\""
   ]
  },
  {
   "cell_type": "code",
   "execution_count": 6,
   "metadata": {},
   "outputs": [
    {
     "data": {
      "text/plain": [
       "(4393, 2864, 3)"
      ]
     },
     "execution_count": 6,
     "metadata": {},
     "output_type": "execute_result"
    }
   ],
   "source": [
    "initial_image = cv2.imread(full_file_path)\n",
    "visualize.visualize_image(initial_image)\n",
    "initial_image.shape"
   ]
  },
  {
   "cell_type": "code",
   "execution_count": 7,
   "metadata": {},
   "outputs": [],
   "source": [
    "image_hls = cv2.cvtColor(initial_image, cv2.COLOR_BGR2HLS)\n",
    "lightness = image_hls[:,:,1]\n",
    "visualize.visualize_image(lightness)"
   ]
  },
  {
   "cell_type": "code",
   "execution_count": 8,
   "metadata": {},
   "outputs": [
    {
     "data": {
      "text/plain": [
       "(26, 238, 180.676189233252)"
      ]
     },
     "execution_count": 8,
     "metadata": {},
     "output_type": "execute_result"
    }
   ],
   "source": [
    "np.min(lightness), np.max(lightness), np.mean(lightness)"
   ]
  },
  {
   "cell_type": "code",
   "execution_count": 9,
   "metadata": {},
   "outputs": [
    {
     "name": "stdout",
     "output_type": "stream",
     "text": [
      "[[113 114 120 ... 166 166 166]\n",
      " [134 134 138 ... 166 166 166]\n",
      " [155 155 158 ... 166 166 165]\n",
      " ...\n",
      " [ 98  98  98 ... 192 192 190]\n",
      " [ 98  98 100 ... 193 193 190]\n",
      " [ 96  98 100 ... 191 189 190]]\n"
     ]
    }
   ],
   "source": [
    "print(lightness)"
   ]
  },
  {
   "cell_type": "code",
   "execution_count": 10,
   "metadata": {},
   "outputs": [],
   "source": [
    "kernel = np.ones((11, 11), np.uint8)\n",
    "dilatation = cv2.dilate(lightness, kernel, iterations=1) \n",
    "visualize.visualize_image(dilatation)"
   ]
  },
  {
   "cell_type": "code",
   "execution_count": 11,
   "metadata": {},
   "outputs": [],
   "source": [
    "erosion = cv2.erode(dilatation, kernel, iterations=1)\n",
    "visualize.visualize_image(erosion)"
   ]
  },
  {
   "cell_type": "code",
   "execution_count": 12,
   "metadata": {},
   "outputs": [
    {
     "data": {
      "text/plain": [
       "(63, 238, 190.98878858506487)"
      ]
     },
     "execution_count": 12,
     "metadata": {},
     "output_type": "execute_result"
    }
   ],
   "source": [
    "np.min(erosion), np.max(erosion), np.mean(erosion)"
   ]
  },
  {
   "cell_type": "code",
   "execution_count": 13,
   "metadata": {},
   "outputs": [
    {
     "name": "stdout",
     "output_type": "stream",
     "text": [
      "[[174 174 174 ... 166 166 166]\n",
      " [174 174 174 ... 166 166 166]\n",
      " [174 174 174 ... 166 166 166]\n",
      " ...\n",
      " [102 102 102 ... 193 194 194]\n",
      " [102 102 102 ... 193 194 194]\n",
      " [102 102 102 ... 193 194 194]]\n"
     ]
    }
   ],
   "source": [
    "print(erosion)"
   ]
  },
  {
   "cell_type": "code",
   "execution_count": 17,
   "metadata": {},
   "outputs": [
    {
     "name": "stdout",
     "output_type": "stream",
     "text": [
      "28 190 179.68740064818712\n",
      "[[129 130 136 ... 190 190 190]\n",
      " [150 150 154 ... 190 190 190]\n",
      " [171 171 174 ... 190 190 189]\n",
      " ...\n",
      " [186 186 186 ... 189 188 186]\n",
      " [186 186 188 ... 190 189 186]\n",
      " [184 186 188 ... 188 185 186]]\n"
     ]
    }
   ],
   "source": [
    "result = np.array(lightness, dtype=np.int16) - np.array(erosion, dtype=np.int16) + int(np.mean(erosion))\n",
    "result = result - np.mean(result) + np.mean(lightness)\n",
    "result = np.array(np.clip(result, 0, 255), dtype=np.uint8)\n",
    "print(np.min(result), np.max(result), np.mean(result))\n",
    "print(result)"
   ]
  },
  {
   "cell_type": "code",
   "execution_count": 18,
   "metadata": {},
   "outputs": [
    {
     "data": {
      "text/plain": [
       "(28, 190, 179.68740064818712)"
      ]
     },
     "execution_count": 18,
     "metadata": {},
     "output_type": "execute_result"
    }
   ],
   "source": [
    "np.min(result), np.max(result), np.mean(result)"
   ]
  },
  {
   "cell_type": "code",
   "execution_count": 19,
   "metadata": {},
   "outputs": [],
   "source": [
    "visualize.visualize_image(result)\n",
    "# result = 255 / (np.max(result) - np.min(result)) * (result - np.min(result))\n",
    "restored = image_hls.copy()\n",
    "restored[:,:,1] = result\n",
    "restored = cv2.cvtColor(restored, cv2.COLOR_HLS2BGR)\n",
    "visualize.visualize_image(restored)"
   ]
  },
  {
   "cell_type": "code",
   "execution_count": null,
   "metadata": {},
   "outputs": [],
   "source": []
  },
  {
   "cell_type": "code",
   "execution_count": null,
   "metadata": {},
   "outputs": [],
   "source": []
  },
  {
   "cell_type": "code",
   "execution_count": null,
   "metadata": {},
   "outputs": [],
   "source": []
  },
  {
   "cell_type": "code",
   "execution_count": null,
   "metadata": {},
   "outputs": [],
   "source": []
  },
  {
   "cell_type": "code",
   "execution_count": null,
   "metadata": {},
   "outputs": [],
   "source": []
  },
  {
   "cell_type": "code",
   "execution_count": null,
   "metadata": {},
   "outputs": [],
   "source": []
  },
  {
   "cell_type": "code",
   "execution_count": null,
   "metadata": {},
   "outputs": [],
   "source": []
  }
 ],
 "metadata": {
  "kernelspec": {
   "display_name": "Python 3",
   "language": "python",
   "name": "python3"
  },
  "language_info": {
   "codemirror_mode": {
    "name": "ipython",
    "version": 3
   },
   "file_extension": ".py",
   "mimetype": "text/x-python",
   "name": "python",
   "nbconvert_exporter": "python",
   "pygments_lexer": "ipython3",
   "version": "3.7.3"
  }
 },
 "nbformat": 4,
 "nbformat_minor": 2
}
