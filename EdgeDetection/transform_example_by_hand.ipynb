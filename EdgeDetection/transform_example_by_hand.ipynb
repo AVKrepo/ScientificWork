{
 "cells": [
  {
   "cell_type": "markdown",
   "metadata": {},
   "source": [
    "# Transform_example.py"
   ]
  },
  {
   "cell_type": "code",
   "execution_count": 1,
   "metadata": {},
   "outputs": [],
   "source": [
    "from transform import four_point_transform\n",
    "import numpy as np\n",
    "# import argparse\n",
    "import cv2\n",
    "%matplotlib inline"
   ]
  },
  {
   "cell_type": "code",
   "execution_count": 2,
   "metadata": {},
   "outputs": [],
   "source": [
    "# # construct the argument parse and parse the arguments\n",
    "# ap = argparse.ArgumentParser()\n",
    "# ap.add_argument(\"-i\", \"--image\", help=\"path to the image file\")\n",
    "# ap.add_argument(\"-c\", \"--coords\", help=\"comma seperated list of source points\")\n",
    "# args = vars(ap.parse_args())"
   ]
  },
  {
   "cell_type": "code",
   "execution_count": 3,
   "metadata": {},
   "outputs": [],
   "source": [
    "# load the image and grab the source coordinates (i.e. the list of\n",
    "# of (x, y) points)\n",
    "# NOTE: using the 'eval' function is bad form, but for this example\n",
    "# let's just roll with it -- in future posts I'll show you how to\n",
    "# automatically determine the coordinates without pre-supplying them\n",
    "\n",
    "# image = cv2.imread(args[\"image\"])\n",
    "# pts = np.array(eval(args[\"coords\"]), dtype = \"float32\")\n",
    "image = cv2.imread(\"../data/Разное/20180302_123238.jpg\")\n",
    "image_resized = cv2.resize(image, (720, 960))"
   ]
  },
  {
   "cell_type": "code",
   "execution_count": 4,
   "metadata": {},
   "outputs": [],
   "source": [
    "pts = np.array([(263, 194), \n",
    "                (2777, 252), \n",
    "                (2987, 3969), \n",
    "                (132, 4024)], dtype = \"float32\")"
   ]
  },
  {
   "cell_type": "code",
   "execution_count": 5,
   "metadata": {},
   "outputs": [],
   "source": [
    "# apply the four point tranform to obtain a \"birds eye view\" of\n",
    "# the image\n",
    "warped = four_point_transform(image, pts)\n",
    "warped_resized = cv2.resize(warped, (720, 960))"
   ]
  },
  {
   "cell_type": "code",
   "execution_count": 6,
   "metadata": {},
   "outputs": [
    {
     "data": {
      "text/plain": [
       "-1"
      ]
     },
     "execution_count": 6,
     "metadata": {},
     "output_type": "execute_result"
    }
   ],
   "source": [
    "# show the original and warped images\n",
    "cv2.imshow(\"Original\", image_resized)\n",
    "cv2.imshow(\"Warped\", warped_resized)\n",
    "cv2.waitKey(0)"
   ]
  }
 ],
 "metadata": {
  "kernelspec": {
   "display_name": "Python 3",
   "language": "python",
   "name": "python3"
  },
  "language_info": {
   "codemirror_mode": {
    "name": "ipython",
    "version": 3
   },
   "file_extension": ".py",
   "mimetype": "text/x-python",
   "name": "python",
   "nbconvert_exporter": "python",
   "pygments_lexer": "ipython3",
   "version": "3.7.2"
  }
 },
 "nbformat": 4,
 "nbformat_minor": 2
}
