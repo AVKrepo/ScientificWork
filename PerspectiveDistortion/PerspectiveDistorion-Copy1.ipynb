{
 "cells": [
  {
   "cell_type": "code",
   "execution_count": 1,
   "metadata": {},
   "outputs": [],
   "source": [
    "import numpy as np\n",
    "import cv2\n",
    "from matplotlib import pyplot as plt\n",
    "import os\n",
    "import math\n",
    "from sklearn.cluster import KMeans\n",
    "%matplotlib inline\n",
    "import sys\n",
    "\n",
    "from skimage.transform import (hough_line, hough_line_peaks,\n",
    "                               probabilistic_hough_line)\n",
    "from skimage.feature import canny\n",
    "from skimage import data\n",
    "\n",
    "import matplotlib.pyplot as plt\n",
    "from matplotlib import cm"
   ]
  },
  {
   "cell_type": "code",
   "execution_count": 2,
   "metadata": {},
   "outputs": [],
   "source": [
    "sys.path.append(\"..\")\n",
    "from framework import perspective_transform\n",
    "from framework import visualize\n",
    "from framework import edges_detection"
   ]
  },
  {
   "cell_type": "code",
   "execution_count": 3,
   "metadata": {},
   "outputs": [],
   "source": [
    "verbose = 2"
   ]
  },
  {
   "cell_type": "code",
   "execution_count": 4,
   "metadata": {},
   "outputs": [],
   "source": [
    "# data_path = \"/home/avk/study/1C/Diplom/data/NewData/samples/\"\n",
    "data_path = \"/home/avk/study/1C/Diplom/PerspectiveDistortion/SampleData/\""
   ]
  },
  {
   "cell_type": "code",
   "execution_count": 5,
   "metadata": {},
   "outputs": [],
   "source": [
    "# # for file_num, filename in enumerate(os.listdir(data_path)):\n",
    "# #     full_file_path = os.path.join(data_path, filename)\n",
    "# #     if file_num == 5:\n",
    "# # #     if file_num == 2:\n",
    "# #         break\n",
    "# # file_num\n",
    "# full_file_path = \"/home/avk/study/1C/Diplom/PerspectiveDistortion/SampleData/IMG_20190317_170456.jpg\""
   ]
  },
  {
   "cell_type": "code",
   "execution_count": 6,
   "metadata": {},
   "outputs": [
    {
     "data": {
      "text/plain": [
       "3"
      ]
     },
     "execution_count": 6,
     "metadata": {},
     "output_type": "execute_result"
    }
   ],
   "source": [
    "for file_num, filename in enumerate(os.listdir(data_path)):\n",
    "    full_file_path = os.path.join(data_path, filename)\n",
    "#     if file_num == 3: #4 # 6 # 7 # 5 -unreal!\n",
    "# to show: \n",
    "# 0 - example before-after\n",
    "# 1 - easy case\n",
    "# 2 - interesting additional edges\n",
    "# 3 - horizontal\n",
    "# 4 vs 5 - laminat\n",
    "# 6 - white background\n",
    "# 7 - folder\n",
    "# 8 - angle\n",
    "# 9 - additional blur\n",
    "# 10 - fail\n",
    "    if file_num == 3:\n",
    "        break\n",
    "file_num"
   ]
  },
  {
   "cell_type": "code",
   "execution_count": 7,
   "metadata": {},
   "outputs": [],
   "source": [
    "# full_file_path = \"/home/avk/study/1C/Diplom/PerspectiveDistortion/0.jpg\"\n",
    "# full_file_path = \"/home/avk/Downloads/im.jpg\"\n",
    "# full_file_path = \"/home/avk/study/1C/DiplomText/Tex/img/perspective_distortion/problem/1.jpg\""
   ]
  },
  {
   "cell_type": "code",
   "execution_count": 8,
   "metadata": {},
   "outputs": [
    {
     "data": {
      "text/plain": [
       "(3264, 2448, 3)"
      ]
     },
     "execution_count": 8,
     "metadata": {},
     "output_type": "execute_result"
    }
   ],
   "source": [
    "initial_image = cv2.imread(full_file_path)\n",
    "if verbose >= 1:\n",
    "    visualize.visualize_image(initial_image)\n",
    "initial_image.shape"
   ]
  },
  {
   "cell_type": "markdown",
   "metadata": {},
   "source": [
    "# Уменьшение изображения"
   ]
  },
  {
   "cell_type": "code",
   "execution_count": 9,
   "metadata": {},
   "outputs": [
    {
     "data": {
      "text/plain": [
       "(400, 300, 3)"
      ]
     },
     "execution_count": 9,
     "metadata": {},
     "output_type": "execute_result"
    }
   ],
   "source": [
    "resized_image, resizing_ratio = edges_detection.reduce_image_size(initial_image)\n",
    "if verbose >= 3:\n",
    "    visualize.visualize_image(resized_image)\n",
    "resized_image.shape"
   ]
  },
  {
   "cell_type": "markdown",
   "metadata": {},
   "source": [
    "# Размытие текста"
   ]
  },
  {
   "cell_type": "code",
   "execution_count": 10,
   "metadata": {},
   "outputs": [],
   "source": [
    "# for times in range(1, 8):\n",
    "#     smoothed_image = edges_detection.blur_image(resized_image, cv2.medianBlur, 5, times)\n",
    "#     visualize.visualize_image(smoothed_image, str(times))"
   ]
  },
  {
   "cell_type": "code",
   "execution_count": 11,
   "metadata": {},
   "outputs": [],
   "source": [
    "smoothed_image = edges_detection.blur_image(resized_image, cv2.medianBlur, 5, 3)\n",
    "if verbose >= 3:\n",
    "    visualize.visualize_image(smoothed_image)"
   ]
  },
  {
   "cell_type": "markdown",
   "metadata": {},
   "source": [
    "# Выделение границ"
   ]
  },
  {
   "cell_type": "code",
   "execution_count": 12,
   "metadata": {},
   "outputs": [],
   "source": [
    "# edges = cv2.Canny(smoothed_image, 10, 50)\n",
    "# visualize.visualize_image(edges)"
   ]
  },
  {
   "cell_type": "code",
   "execution_count": 13,
   "metadata": {},
   "outputs": [],
   "source": [
    "# grey_image = cv2.cvtColor(smoothed_image, cv2.COLOR_BGR2GRAY)\n",
    "# if verbose >= 3:\n",
    "#     visualize.visualize_image(grey_image)"
   ]
  },
  {
   "cell_type": "code",
   "execution_count": 14,
   "metadata": {},
   "outputs": [
    {
     "name": "stdout",
     "output_type": "stream",
     "text": [
      "For CannyEdgeDetection greyscale image was chosen\n"
     ]
    }
   ],
   "source": [
    "edges = edges_detection.canny_edge_detector(smoothed_image)\n",
    "if verbose >= 2:\n",
    "    visualize.visualize_image(edges)"
   ]
  },
  {
   "cell_type": "markdown",
   "metadata": {},
   "source": [
    "# Построение линий Хафа"
   ]
  },
  {
   "cell_type": "code",
   "execution_count": 15,
   "metadata": {},
   "outputs": [],
   "source": [
    "# h, theta, d = hough_line(edges)\n",
    "\n",
    "# fig, axes = plt.subplots(1, 3, figsize=(15, 6))\n",
    "# ax = axes.ravel()\n",
    "\n",
    "# ax[0].imshow(edges, cmap=cm.gray)\n",
    "# ax[0].set_title('Input image')\n",
    "# # ax[0].set_axis_off()\n",
    "\n",
    "# ax[1].imshow(np.log(1 + h),\n",
    "#              extent=[np.rad2deg(theta[0]), np.rad2deg(theta[-1]), d[-1], d[0]],\n",
    "#              cmap=cm.gray, aspect=1/5)\n",
    "# ax[1].set_title('Hough transform')\n",
    "# ax[1].set_xlabel('Angles (degrees)')\n",
    "# ax[1].set_ylabel('Distance (pixels)')\n",
    "# # ax[1].axis('image')\n",
    "\n",
    "# ax[2].imshow(edges, cmap=cm.gray)\n",
    "# for _, angle, dist in zip(*hough_line_peaks(h, theta, d)):\n",
    "#     print(angle / np.pi * 180, dist)\n",
    "#     ax[1].plot(np.rad2deg(angle), dist, \"bo\")\n",
    "#     y0 = (dist - 0 * np.cos(angle)) / np.sin(angle)\n",
    "#     y1 = (dist - edges.shape[1] * np.cos(angle)) / np.sin(angle)\n",
    "#     ax[2].plot((0, edges.shape[1]), (y0, y1), '-r')\n",
    "# ax[2].set_xlim((0, edges.shape[1]))\n",
    "# ax[2].set_ylim((edges.shape[0], 0))\n",
    "# ax[2].set_axis_off()\n",
    "# ax[2].set_title('Detected lines')\n",
    "\n",
    "# plt.tight_layout()\n",
    "# plt.show()"
   ]
  },
  {
   "cell_type": "code",
   "execution_count": 16,
   "metadata": {},
   "outputs": [],
   "source": [
    "# plt.figure(figsize=(6, 6))\n",
    "# plt.imshow(np.log(1 + h),\n",
    "#              extent=[np.rad2deg(theta[0]), np.rad2deg(theta[-1]), d[-1], d[0]],\n",
    "#              cmap=cm.gray, aspect=1/5)\n",
    "# # plt.title('Hough transform')\n",
    "# plt.xlabel('Angles (degrees)')\n",
    "# plt.ylabel('Distance (pixels)')\n",
    "# plt.savefig(\"hough_transform.jpg\", bbox_inches='tight')\n",
    "\n",
    "# # hough_lines = edges_detection.find_hough_lines(edges)\n",
    "# # for j, color in zip(range(2), [(0, 0, 255), (0, 255, 255)]):\n",
    "# #     for i in range(0, len(hough_lines[j])):\n",
    "# #         print(color)\n",
    "# #         rho = -hough_lines[j][i][0][0]\n",
    "# #         theta = hough_lines[j][i][0][1]\n",
    "# #         theta = np.rad2deg(theta)\n",
    "# #         theta = theta if theta <= 90.0 else theta - 180.0\n",
    "# #         print(theta, rho)\n",
    "# #         if j == 0:\n",
    "# #             plt.plot(theta, rho, \"bo\")\n",
    "# #         else: \n",
    "# #             plt.plot(theta, rho, \"ro\")\n",
    "# # # plt.savefig(\"hough_transform_with_points.jpg\", bbox_inches='tight')"
   ]
  },
  {
   "cell_type": "code",
   "execution_count": 17,
   "metadata": {},
   "outputs": [
    {
     "name": "stdout",
     "output_type": "stream",
     "text": [
      "2 2\n",
      "2\n"
     ]
    }
   ],
   "source": [
    "hough_lines = edges_detection.find_hough_lines(edges)\n",
    "print(len(hough_lines[0]), len(hough_lines[1]))\n",
    "assert(min(len(hough_lines[0]), len(hough_lines[1])) >= 2)\n",
    "print(len(hough_lines))"
   ]
  },
  {
   "cell_type": "code",
   "execution_count": 18,
   "metadata": {},
   "outputs": [
    {
     "name": "stdout",
     "output_type": "stream",
     "text": [
      "[[array([[41.        ,  0.06981317]], dtype=float32), array([[-236.       ,    3.0194197]], dtype=float32)], [array([[367.       ,   1.5358897]], dtype=float32), array([[40.      ,  1.553343]], dtype=float32)]]\n"
     ]
    }
   ],
   "source": [
    "cdst = edges_detection.draw_lines_on_edges(edges, hough_lines)\n",
    "if verbose >= 3:\n",
    "    visualize.visualize_image(cdst)\n",
    "print(hough_lines)"
   ]
  },
  {
   "cell_type": "markdown",
   "metadata": {},
   "source": [
    "# Поиск пересечений линий"
   ]
  },
  {
   "cell_type": "code",
   "execution_count": 19,
   "metadata": {},
   "outputs": [
    {
     "data": {
      "text/plain": [
       "4"
      ]
     },
     "execution_count": 19,
     "metadata": {},
     "output_type": "execute_result"
    }
   ],
   "source": [
    "intersections = edges_detection.segmented_intersections(hough_lines)\n",
    "len(intersections)"
   ]
  },
  {
   "cell_type": "code",
   "execution_count": 20,
   "metadata": {},
   "outputs": [],
   "source": [
    "for point in intersections:\n",
    "    cv2.circle(cdst, point, 3, (0, 255, 0), -1)\n",
    "if verbose >= 3:\n",
    "    visualize.visualize_image(cdst)"
   ]
  },
  {
   "cell_type": "markdown",
   "metadata": {},
   "source": [
    "# Кластеризация точек пересечения"
   ]
  },
  {
   "cell_type": "code",
   "execution_count": 21,
   "metadata": {},
   "outputs": [],
   "source": [
    "corners = KMeans(n_clusters=4).fit(np.array(intersections)).cluster_centers_"
   ]
  },
  {
   "cell_type": "code",
   "execution_count": 22,
   "metadata": {},
   "outputs": [],
   "source": [
    "for corner in corners:\n",
    "    corner = tuple(np.array(corner, dtype=int))\n",
    "    cv2.circle(cdst, corner, 3, (255, 0, 0), -1)\n",
    "\n",
    "if verbose >= 2:    \n",
    "    visualize.visualize_image(cdst)"
   ]
  },
  {
   "cell_type": "markdown",
   "metadata": {},
   "source": [
    "# Работа с изначальным (неуменьшенным) изображением"
   ]
  },
  {
   "cell_type": "code",
   "execution_count": 23,
   "metadata": {},
   "outputs": [
    {
     "data": {
      "text/plain": [
       "array([[1974,  293],\n",
       "       [ 122, 2994],\n",
       "       [2301, 2913],\n",
       "       [ 310,  318]])"
      ]
     },
     "execution_count": 23,
     "metadata": {},
     "output_type": "execute_result"
    }
   ],
   "source": [
    "corners = np.array(corners * resizing_ratio, dtype=int)\n",
    "corners"
   ]
  },
  {
   "cell_type": "code",
   "execution_count": 24,
   "metadata": {},
   "outputs": [
    {
     "ename": "KeyboardInterrupt",
     "evalue": "",
     "output_type": "error",
     "traceback": [
      "\u001b[0;31m---------------------------------------------------------------------------\u001b[0m",
      "\u001b[0;31mKeyboardInterrupt\u001b[0m                         Traceback (most recent call last)",
      "\u001b[0;32m<ipython-input-24-18b3054d5d1d>\u001b[0m in \u001b[0;36m<module>\u001b[0;34m\u001b[0m\n\u001b[0;32m----> 1\u001b[0;31m \u001b[0mrestored\u001b[0m \u001b[0;34m=\u001b[0m \u001b[0mperspective_transform\u001b[0m\u001b[0;34m.\u001b[0m\u001b[0mremove_perspective_distortion\u001b[0m\u001b[0;34m(\u001b[0m\u001b[0minitial_image\u001b[0m\u001b[0;34m,\u001b[0m \u001b[0mcorners\u001b[0m\u001b[0;34m)\u001b[0m\u001b[0;34m\u001b[0m\u001b[0;34m\u001b[0m\u001b[0m\n\u001b[0m\u001b[1;32m      2\u001b[0m \u001b[0;32mif\u001b[0m \u001b[0mverbose\u001b[0m \u001b[0;34m>=\u001b[0m \u001b[0;36m1\u001b[0m\u001b[0;34m:\u001b[0m\u001b[0;34m\u001b[0m\u001b[0;34m\u001b[0m\u001b[0m\n\u001b[1;32m      3\u001b[0m     \u001b[0mvisualize\u001b[0m\u001b[0;34m.\u001b[0m\u001b[0mvisualize_image\u001b[0m\u001b[0;34m(\u001b[0m\u001b[0mrestored\u001b[0m\u001b[0;34m)\u001b[0m\u001b[0;34m\u001b[0m\u001b[0;34m\u001b[0m\u001b[0m\n\u001b[1;32m      4\u001b[0m \u001b[0mrestored\u001b[0m\u001b[0;34m.\u001b[0m\u001b[0mshape\u001b[0m\u001b[0;34m,\u001b[0m \u001b[0mrestored\u001b[0m\u001b[0;34m.\u001b[0m\u001b[0mshape\u001b[0m\u001b[0;34m[\u001b[0m\u001b[0;36m0\u001b[0m\u001b[0;34m]\u001b[0m \u001b[0;34m/\u001b[0m \u001b[0mrestored\u001b[0m\u001b[0;34m.\u001b[0m\u001b[0mshape\u001b[0m\u001b[0;34m[\u001b[0m\u001b[0;36m1\u001b[0m\u001b[0;34m]\u001b[0m\u001b[0;34m\u001b[0m\u001b[0;34m\u001b[0m\u001b[0m\n",
      "\u001b[0;32m~/study/1C/Diplom/framework/perspective_transform.py\u001b[0m in \u001b[0;36mremove_perspective_distortion\u001b[0;34m(image, corners)\u001b[0m\n\u001b[1;32m    149\u001b[0m \u001b[0;34m\u001b[0m\u001b[0m\n\u001b[1;32m    150\u001b[0m \u001b[0;32mdef\u001b[0m \u001b[0mremove_perspective_distortion\u001b[0m\u001b[0;34m(\u001b[0m\u001b[0mimage\u001b[0m\u001b[0;34m,\u001b[0m \u001b[0mcorners\u001b[0m\u001b[0;34m)\u001b[0m\u001b[0;34m:\u001b[0m\u001b[0;34m\u001b[0m\u001b[0;34m\u001b[0m\u001b[0m\n\u001b[0;32m--> 151\u001b[0;31m     \u001b[0mnew_corners\u001b[0m \u001b[0;34m=\u001b[0m \u001b[0mdetermine_new_corners\u001b[0m\u001b[0;34m(\u001b[0m\u001b[0mcorners\u001b[0m\u001b[0;34m,\u001b[0m \u001b[0mimage\u001b[0m\u001b[0;34m)\u001b[0m\u001b[0;34m\u001b[0m\u001b[0;34m\u001b[0m\u001b[0m\n\u001b[0m\u001b[1;32m    152\u001b[0m     \u001b[0mtransformed_image\u001b[0m \u001b[0;34m=\u001b[0m \u001b[0mtransform_four_points_to_four_points\u001b[0m\u001b[0;34m(\u001b[0m\u001b[0mimage\u001b[0m\u001b[0;34m,\u001b[0m \u001b[0mcorners\u001b[0m\u001b[0;34m,\u001b[0m \u001b[0mnew_corners\u001b[0m\u001b[0;34m)\u001b[0m\u001b[0;34m\u001b[0m\u001b[0;34m\u001b[0m\u001b[0m\n\u001b[1;32m    153\u001b[0m     \u001b[0;32mreturn\u001b[0m \u001b[0mtransformed_image\u001b[0m\u001b[0;34m\u001b[0m\u001b[0;34m\u001b[0m\u001b[0m\n",
      "\u001b[0;32m~/study/1C/Diplom/framework/perspective_transform.py\u001b[0m in \u001b[0;36mdetermine_new_corners\u001b[0;34m(corners, image, mode)\u001b[0m\n\u001b[1;32m     52\u001b[0m     \u001b[0;32mwhile\u001b[0m \u001b[0;32mnot\u001b[0m \u001b[0mtarget_height\u001b[0m \u001b[0;32mor\u001b[0m \u001b[0;32mnot\u001b[0m \u001b[0mtarget_width\u001b[0m\u001b[0;34m:\u001b[0m\u001b[0;34m\u001b[0m\u001b[0;34m\u001b[0m\u001b[0m\n\u001b[1;32m     53\u001b[0m \u001b[0;34m\u001b[0m\u001b[0m\n\u001b[0;32m---> 54\u001b[0;31m         \u001b[0;32mif\u001b[0m \u001b[0mmode\u001b[0m \u001b[0;34m==\u001b[0m \u001b[0;34m\"naive\"\u001b[0m \u001b[0;32mor\u001b[0m \u001b[0mmode\u001b[0m \u001b[0;34m==\u001b[0m \u001b[0;34m\"all\"\u001b[0m\u001b[0;34m:\u001b[0m\u001b[0;34m\u001b[0m\u001b[0;34m\u001b[0m\u001b[0m\n\u001b[0m\u001b[1;32m     55\u001b[0m             \u001b[0;31m# New height and width will be max vertical and horizontal sides\u001b[0m\u001b[0;34m\u001b[0m\u001b[0;34m\u001b[0m\u001b[0;34m\u001b[0m\u001b[0m\n\u001b[1;32m     56\u001b[0m             \u001b[0mprint\u001b[0m\u001b[0;34m(\u001b[0m\u001b[0;34m\"mode == naive\"\u001b[0m\u001b[0;34m)\u001b[0m\u001b[0;34m\u001b[0m\u001b[0;34m\u001b[0m\u001b[0m\n",
      "\u001b[0;31mKeyboardInterrupt\u001b[0m: "
     ]
    }
   ],
   "source": [
    "restored = perspective_transform.remove_perspective_distortion(initial_image, corners)\n",
    "if verbose >= 1:\n",
    "    visualize.visualize_image(restored)\n",
    "restored.shape, restored.shape[0] / restored.shape[1]"
   ]
  },
  {
   "cell_type": "code",
   "execution_count": null,
   "metadata": {},
   "outputs": [],
   "source": []
  }
 ],
 "metadata": {
  "kernelspec": {
   "display_name": "Python 3",
   "language": "python",
   "name": "python3"
  },
  "language_info": {
   "codemirror_mode": {
    "name": "ipython",
    "version": 3
   },
   "file_extension": ".py",
   "mimetype": "text/x-python",
   "name": "python",
   "nbconvert_exporter": "python",
   "pygments_lexer": "ipython3",
   "version": "3.7.3"
  }
 },
 "nbformat": 4,
 "nbformat_minor": 2
}
