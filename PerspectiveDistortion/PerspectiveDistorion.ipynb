{
 "cells": [
  {
   "cell_type": "code",
   "execution_count": 1,
   "metadata": {},
   "outputs": [],
   "source": [
    "import numpy as np\n",
    "import cv2\n",
    "from matplotlib import pyplot as plt\n",
    "import os\n",
    "import math\n",
    "from sklearn.cluster import KMeans\n",
    "%matplotlib inline\n",
    "import sys"
   ]
  },
  {
   "cell_type": "code",
   "execution_count": 2,
   "metadata": {},
   "outputs": [],
   "source": [
    "sys.path.append(\"..\")\n",
    "from framework import perspective_transform\n",
    "from framework import visualize\n",
    "from framework import edges_detection"
   ]
  },
  {
   "cell_type": "code",
   "execution_count": 3,
   "metadata": {},
   "outputs": [],
   "source": [
    "# data_path = \"/home/avk/study/1C/Diplom/data/NewData/samples/\"\n",
    "data_path = \"/home/avk/study/1C/Diplom/PerspectiveDistortion/SampleData/\""
   ]
  },
  {
   "cell_type": "code",
   "execution_count": 4,
   "metadata": {},
   "outputs": [],
   "source": [
    "# # for file_num, filename in enumerate(os.listdir(data_path)):\n",
    "# #     full_file_path = os.path.join(data_path, filename)\n",
    "# #     if file_num == 5:\n",
    "# # #     if file_num == 2:\n",
    "# #         break\n",
    "# # file_num\n",
    "# full_file_path = \"/home/avk/study/1C/Diplom/PerspectiveDistortion/SampleData/IMG_20190317_170456.jpg\""
   ]
  },
  {
   "cell_type": "code",
   "execution_count": 5,
   "metadata": {},
   "outputs": [
    {
     "data": {
      "text/plain": [
       "3"
      ]
     },
     "execution_count": 5,
     "metadata": {},
     "output_type": "execute_result"
    }
   ],
   "source": [
    "for file_num, filename in enumerate(os.listdir(data_path)):\n",
    "    full_file_path = os.path.join(data_path, filename)\n",
    "#     if file_num == 3: # 6 # 7\n",
    "    if file_num == 3:\n",
    "        break\n",
    "file_num"
   ]
  },
  {
   "cell_type": "code",
   "execution_count": 6,
   "metadata": {},
   "outputs": [
    {
     "data": {
      "text/plain": [
       "(2448, 3264, 3)"
      ]
     },
     "execution_count": 6,
     "metadata": {},
     "output_type": "execute_result"
    }
   ],
   "source": [
    "initial_image = cv2.imread(full_file_path)\n",
    "visualize.visualize_image(initial_image)\n",
    "initial_image.shape"
   ]
  },
  {
   "cell_type": "markdown",
   "metadata": {},
   "source": [
    "# Уменьшение изображения"
   ]
  },
  {
   "cell_type": "code",
   "execution_count": 7,
   "metadata": {},
   "outputs": [
    {
     "data": {
      "text/plain": [
       "(300, 400, 3)"
      ]
     },
     "execution_count": 7,
     "metadata": {},
     "output_type": "execute_result"
    }
   ],
   "source": [
    "resized_image, resizing_ratio = edges_detection.reduce_image_size(initial_image)\n",
    "visualize.visualize_image(resized_image)\n",
    "resized_image.shape"
   ]
  },
  {
   "cell_type": "markdown",
   "metadata": {},
   "source": [
    "# Размытие текста"
   ]
  },
  {
   "cell_type": "code",
   "execution_count": 8,
   "metadata": {},
   "outputs": [],
   "source": [
    "# for times in range(1, 8):\n",
    "#     smoothed_image = edges_detection.blur_image(resized_image, cv2.medianBlur, 5, times)\n",
    "#     visualize.visualize_image(smoothed_image, str(times))"
   ]
  },
  {
   "cell_type": "code",
   "execution_count": 9,
   "metadata": {},
   "outputs": [],
   "source": [
    "smoothed_image = edges_detection.blur_image(resized_image, cv2.medianBlur, 5, 3)\n",
    "visualize.visualize_image(smoothed_image)"
   ]
  },
  {
   "cell_type": "markdown",
   "metadata": {},
   "source": [
    "# Выделение границ"
   ]
  },
  {
   "cell_type": "code",
   "execution_count": 10,
   "metadata": {},
   "outputs": [],
   "source": [
    "# edges = cv2.Canny(smoothed_image, 10, 50)\n",
    "# visualize.visualize_image(edges)"
   ]
  },
  {
   "cell_type": "code",
   "execution_count": 11,
   "metadata": {},
   "outputs": [],
   "source": [
    "edges = edges_detection.canny_edge_detector(smoothed_image)\n",
    "visualize.visualize_image(edges)"
   ]
  },
  {
   "cell_type": "markdown",
   "metadata": {},
   "source": [
    "# Построение линий Хафа"
   ]
  },
  {
   "cell_type": "code",
   "execution_count": 12,
   "metadata": {},
   "outputs": [
    {
     "name": "stdout",
     "output_type": "stream",
     "text": [
      "4 4\n"
     ]
    }
   ],
   "source": [
    "hough_lines = edges_detection.find_hough_lines(edges)\n",
    "print(len(hough_lines[0]), len(hough_lines[1]))\n",
    "assert(min(len(hough_lines[0]), len(hough_lines[1])) >= 2)"
   ]
  },
  {
   "cell_type": "code",
   "execution_count": 13,
   "metadata": {},
   "outputs": [
    {
     "name": "stdout",
     "output_type": "stream",
     "text": [
      "[[array([[280.       ,   1.5009831]], dtype=float32), array([[16.       ,  1.5882496]], dtype=float32), array([[13.       ,  1.6057029]], dtype=float32), array([[276.       ,   1.5184364]], dtype=float32)], [array([[-20.       ,   3.1241393]], dtype=float32), array([[-368.       ,    3.0892327]], dtype=float32), array([[23.,  0.]], dtype=float32), array([[-371.      ,    3.106686]], dtype=float32)]]\n"
     ]
    }
   ],
   "source": [
    "cdst = edges_detection.draw_lines_on_edges(edges, hough_lines)\n",
    "visualize.visualize_image(cdst)\n",
    "print(hough_lines)"
   ]
  },
  {
   "cell_type": "markdown",
   "metadata": {},
   "source": [
    "# Поиск пересечений линий"
   ]
  },
  {
   "cell_type": "code",
   "execution_count": 14,
   "metadata": {},
   "outputs": [
    {
     "data": {
      "text/plain": [
       "16"
      ]
     },
     "execution_count": 14,
     "metadata": {},
     "output_type": "execute_result"
    }
   ],
   "source": [
    "intersections = edges_detection.segmented_intersections(hough_lines)\n",
    "len(intersections)"
   ]
  },
  {
   "cell_type": "code",
   "execution_count": 15,
   "metadata": {},
   "outputs": [],
   "source": [
    "for point in intersections:\n",
    "    cv2.circle(cdst, point, 3, (0, 255, 0), -1)\n",
    "visualize.visualize_image(cdst)"
   ]
  },
  {
   "cell_type": "markdown",
   "metadata": {},
   "source": [
    "# Кластеризация точек пересечения"
   ]
  },
  {
   "cell_type": "code",
   "execution_count": 21,
   "metadata": {},
   "outputs": [],
   "source": [
    "corners = KMeans(n_clusters=4).fit(np.array(intersections)).cluster_centers_"
   ]
  },
  {
   "cell_type": "code",
   "execution_count": 24,
   "metadata": {},
   "outputs": [],
   "source": [
    "for corner in corners:\n",
    "    corner = tuple(np.array(corner, dtype=int))\n",
    "    cv2.circle(cdst, corner, 3, (255, 0, 0), -1)\n",
    "visualize.visualize_image(cdst)"
   ]
  },
  {
   "cell_type": "markdown",
   "metadata": {},
   "source": [
    "# Работа с изначальным (неуменьшенным) изображением"
   ]
  },
  {
   "cell_type": "code",
   "execution_count": 19,
   "metadata": {},
   "outputs": [
    {
     "data": {
      "text/plain": [
       "array([[ 195, 2260],\n",
       "       [3027,  195],\n",
       "       [ 175,  122],\n",
       "       [3108, 2080]])"
      ]
     },
     "execution_count": 19,
     "metadata": {},
     "output_type": "execute_result"
    }
   ],
   "source": [
    "corners = np.array(corners * resizing_ratio, dtype=int)\n",
    "corners"
   ]
  },
  {
   "cell_type": "code",
   "execution_count": 20,
   "metadata": {},
   "outputs": [
    {
     "data": {
      "text/plain": [
       "((2037, 3061, 3), 0.66546880104541)"
      ]
     },
     "execution_count": 20,
     "metadata": {},
     "output_type": "execute_result"
    }
   ],
   "source": [
    "warped = perspective_transform.remove_perspective_distortion(initial_image, corners)\n",
    "visualize.visualize_image(warped)\n",
    "warped.shape, warped.shape[0] / warped.shape[1]"
   ]
  },
  {
   "cell_type": "code",
   "execution_count": null,
   "metadata": {},
   "outputs": [],
   "source": []
  }
 ],
 "metadata": {
  "kernelspec": {
   "display_name": "Python 3",
   "language": "python",
   "name": "python3"
  },
  "language_info": {
   "codemirror_mode": {
    "name": "ipython",
    "version": 3
   },
   "file_extension": ".py",
   "mimetype": "text/x-python",
   "name": "python",
   "nbconvert_exporter": "python",
   "pygments_lexer": "ipython3",
   "version": "3.7.3"
  }
 },
 "nbformat": 4,
 "nbformat_minor": 2
}
