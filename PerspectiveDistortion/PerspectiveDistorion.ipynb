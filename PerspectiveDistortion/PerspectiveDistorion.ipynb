{
 "cells": [
  {
   "cell_type": "code",
   "execution_count": 1,
   "metadata": {},
   "outputs": [],
   "source": [
    "import numpy as np\n",
    "import cv2\n",
    "from matplotlib import pyplot as plt\n",
    "import os\n",
    "import math\n",
    "from sklearn.cluster import KMeans\n",
    "%matplotlib inline\n",
    "import sys"
   ]
  },
  {
   "cell_type": "code",
   "execution_count": 2,
   "metadata": {},
   "outputs": [],
   "source": [
    "sys.path.append(\"..\")\n",
    "from framework import perspective_transform\n",
    "from framework import visualize\n",
    "from framework import edges_detection"
   ]
  },
  {
   "cell_type": "code",
   "execution_count": 3,
   "metadata": {},
   "outputs": [],
   "source": [
    "# data_path = \"/home/avk/study/1C/Diplom/data/NewData/samples/\"\n",
    "data_path = \"/home/avk/study/1C/Diplom/PerspectiveDistortion/SampleData/\""
   ]
  },
  {
   "cell_type": "code",
   "execution_count": 4,
   "metadata": {},
   "outputs": [],
   "source": [
    "# # for file_num, filename in enumerate(os.listdir(data_path)):\n",
    "# #     full_file_path = os.path.join(data_path, filename)\n",
    "# #     if file_num == 5:\n",
    "# # #     if file_num == 2:\n",
    "# #         break\n",
    "# # file_num\n",
    "# full_file_path = \"/home/avk/study/1C/Diplom/PerspectiveDistortion/SampleData/IMG_20190317_170456.jpg\""
   ]
  },
  {
   "cell_type": "code",
   "execution_count": 5,
   "metadata": {},
   "outputs": [
    {
     "data": {
      "text/plain": [
       "0"
      ]
     },
     "execution_count": 5,
     "metadata": {},
     "output_type": "execute_result"
    }
   ],
   "source": [
    "for file_num, filename in enumerate(os.listdir(data_path)):\n",
    "    full_file_path = os.path.join(data_path, filename)\n",
    "    if file_num == 0:\n",
    "        break\n",
    "file_num"
   ]
  },
  {
   "cell_type": "code",
   "execution_count": 6,
   "metadata": {},
   "outputs": [
    {
     "data": {
      "text/plain": [
       "(4032, 3016, 3)"
      ]
     },
     "execution_count": 6,
     "metadata": {},
     "output_type": "execute_result"
    }
   ],
   "source": [
    "initial_image = cv2.imread(full_file_path)\n",
    "visualize.visualize_image(initial_image)\n",
    "initial_image.shape"
   ]
  },
  {
   "cell_type": "markdown",
   "metadata": {},
   "source": [
    "# Уменьшение изображения"
   ]
  },
  {
   "cell_type": "code",
   "execution_count": 7,
   "metadata": {},
   "outputs": [
    {
     "data": {
      "text/plain": [
       "(401, 300, 3)"
      ]
     },
     "execution_count": 7,
     "metadata": {},
     "output_type": "execute_result"
    }
   ],
   "source": [
    "resized_image, resizing_ratio = edges_detection.reduce_image_size(initial_image)\n",
    "visualize.visualize_image(resized_image)\n",
    "resized_image.shape"
   ]
  },
  {
   "cell_type": "markdown",
   "metadata": {},
   "source": [
    "# Размытие текста"
   ]
  },
  {
   "cell_type": "code",
   "execution_count": 8,
   "metadata": {},
   "outputs": [],
   "source": [
    "# for times in range(1, 8):\n",
    "#     smoothed_image = edges_detection.blur_image(resized_image, cv2.medianBlur, 5, times)\n",
    "#     visualize.visualize_image(smoothed_image, str(times))"
   ]
  },
  {
   "cell_type": "code",
   "execution_count": 9,
   "metadata": {},
   "outputs": [],
   "source": [
    "smoothed_image = edges_detection.blur_image(resized_image, cv2.medianBlur, 5, 3)\n",
    "visualize.visualize_image(smoothed_image)\n",
    "# smoothed_image = blur_image(smoothed_image, cv2.medianBlur, 3, 3)\n",
    "# visualize.visualize_image(smoothed_image)"
   ]
  },
  {
   "cell_type": "markdown",
   "metadata": {},
   "source": [
    "# Выделение границ"
   ]
  },
  {
   "cell_type": "code",
   "execution_count": 10,
   "metadata": {},
   "outputs": [],
   "source": [
    "# edges = cv2.Canny(smoothed_image, 10, 50)\n",
    "# visualize.visualize_image(edges)"
   ]
  },
  {
   "cell_type": "code",
   "execution_count": 42,
   "metadata": {},
   "outputs": [
    {
     "data": {
      "text/plain": [
       "255"
      ]
     },
     "execution_count": 42,
     "metadata": {},
     "output_type": "execute_result"
    }
   ],
   "source": [
    "np.max(edges)"
   ]
  },
  {
   "cell_type": "code",
   "execution_count": 43,
   "metadata": {},
   "outputs": [
    {
     "name": "stdout",
     "output_type": "stream",
     "text": [
      "67.5 135.0\n"
     ]
    },
    {
     "data": {
      "text/plain": [
       "(401, 300)"
      ]
     },
     "execution_count": 43,
     "metadata": {},
     "output_type": "execute_result"
    }
   ],
   "source": [
    "grey_image = cv2.cvtColor(smoothed_image, cv2.COLOR_BGR2GRAY)\n",
    "high_thresh, thresh_im = cv2.threshold(grey_image, 0, 255, cv2.THRESH_BINARY + cv2.THRESH_OTSU)\n",
    "visualize.visualize_image(thresh_im)\n",
    "\n",
    "low_thresh = 0.5 * high_thresh\n",
    "print(low_thresh, high_thresh)\n",
    "edges = cv2.Canny(smoothed_image, low_thresh, high_thresh)\n",
    "visualize.visualize_image(edges)\n",
    "edges.shape"
   ]
  },
  {
   "cell_type": "code",
   "execution_count": 39,
   "metadata": {},
   "outputs": [],
   "source": [
    "hough_lines = edges_detection.find_hough_lines(edges)\n",
    "assert(len(hough_lines) == 4)"
   ]
  },
  {
   "cell_type": "code",
   "execution_count": 13,
   "metadata": {},
   "outputs": [],
   "source": [
    "cdst = cv2.cvtColor(edges, cv2.COLOR_GRAY2BGR)"
   ]
  },
  {
   "cell_type": "code",
   "execution_count": 14,
   "metadata": {},
   "outputs": [
    {
     "data": {
      "text/plain": [
       "(401, 300, 3)"
      ]
     },
     "execution_count": 14,
     "metadata": {},
     "output_type": "execute_result"
    }
   ],
   "source": [
    "cdst.shape"
   ]
  },
  {
   "cell_type": "code",
   "execution_count": 15,
   "metadata": {},
   "outputs": [],
   "source": [
    "# visualize.visualize_image(cdst)"
   ]
  },
  {
   "cell_type": "code",
   "execution_count": 16,
   "metadata": {},
   "outputs": [],
   "source": [
    "# Draw the lines\n",
    "if hough_lines is not None:\n",
    "    for i in range(0, len(hough_lines)):\n",
    "        rho = hough_lines[i][0][0]\n",
    "        theta = hough_lines[i][0][1]\n",
    "        a = math.cos(theta)\n",
    "        b = math.sin(theta)\n",
    "        x0 = a * rho\n",
    "        y0 = b * rho\n",
    "        pt1 = (int(x0 + 1000*(-b)), int(y0 + 1000*(a)))\n",
    "        pt2 = (int(x0 - 1000*(-b)), int(y0 - 1000*(a)))\n",
    "        cv2.line(cdst, pt1, pt2, (0,0,255), 1, cv2.LINE_AA)"
   ]
  },
  {
   "cell_type": "code",
   "execution_count": 17,
   "metadata": {},
   "outputs": [],
   "source": [
    "visualize.visualize_image(cdst)"
   ]
  },
  {
   "cell_type": "code",
   "execution_count": 18,
   "metadata": {},
   "outputs": [],
   "source": [
    "from collections import defaultdict\n",
    "def segment_by_angle_kmeans(lines, k=2, **kwargs):\n",
    "    \"\"\"Groups lines based on angle with k-means.\n",
    "\n",
    "    Uses k-means on the coordinates of the angle on the unit circle \n",
    "    to segment `k` angles inside `lines`.\n",
    "    \"\"\"\n",
    "\n",
    "    # Define criteria = (type, max_iter, epsilon)\n",
    "    default_criteria_type = cv2.TERM_CRITERIA_EPS + cv2.TERM_CRITERIA_MAX_ITER\n",
    "    criteria = kwargs.get('criteria', (default_criteria_type, 10, 1.0))\n",
    "    flags = kwargs.get('flags', cv2.KMEANS_RANDOM_CENTERS)\n",
    "    attempts = kwargs.get('attempts', 10)\n",
    "\n",
    "    # returns angles in [0, pi] in radians\n",
    "    angles = np.array([line[0][1] for line in lines])\n",
    "    # multiply the angles by two and find coordinates of that angle\n",
    "    pts = np.array([[np.cos(2*angle), np.sin(2*angle)]\n",
    "                    for angle in angles], dtype=np.float32)\n",
    "\n",
    "    # run kmeans on the coords\n",
    "    labels, centers = cv2.kmeans(pts, k, None, criteria, attempts, flags)[1:]\n",
    "    labels = labels.reshape(-1)  # transpose to row vec\n",
    "\n",
    "    # segment lines based on their kmeans label\n",
    "    segmented = defaultdict(list)\n",
    "    for i, line in zip(range(len(lines)), lines):\n",
    "        segmented[labels[i]].append(line)\n",
    "    segmented = list(segmented.values())\n",
    "    return segmented"
   ]
  },
  {
   "cell_type": "code",
   "execution_count": 19,
   "metadata": {},
   "outputs": [],
   "source": [
    "segmented = segment_by_angle_kmeans(hough_lines)"
   ]
  },
  {
   "cell_type": "code",
   "execution_count": 20,
   "metadata": {},
   "outputs": [
    {
     "data": {
      "text/plain": [
       "[[array([[24.       ,  1.5707964]], dtype=float32),\n",
       "  array([[81.       ,  1.9722221]], dtype=float32),\n",
       "  array([[355.       ,   1.6406095]], dtype=float32)],\n",
       " [array([[266.,   0.]], dtype=float32)]]"
      ]
     },
     "execution_count": 20,
     "metadata": {},
     "output_type": "execute_result"
    }
   ],
   "source": [
    "segmented"
   ]
  },
  {
   "cell_type": "code",
   "execution_count": 21,
   "metadata": {},
   "outputs": [],
   "source": [
    "def intersection(line1, line2):\n",
    "    \"\"\"Finds the intersection of two lines given in Hesse normal form.\n",
    "\n",
    "    Returns closest integer pixel locations.\n",
    "    See https://stackoverflow.com/a/383527/5087436\n",
    "    \"\"\"\n",
    "    rho1, theta1 = line1[0]\n",
    "    rho2, theta2 = line2[0]\n",
    "    A = np.array([\n",
    "        [np.cos(theta1), np.sin(theta1)],\n",
    "        [np.cos(theta2), np.sin(theta2)]\n",
    "    ])\n",
    "    b = np.array([[rho1], [rho2]])\n",
    "    x0, y0 = np.linalg.solve(A, b)\n",
    "    x0, y0 = int(np.round(x0)), int(np.round(y0))\n",
    "    return [[x0, y0]]\n",
    "\n",
    "\n",
    "def segmented_intersections(lines):\n",
    "    \"\"\"Finds the intersections between groups of lines.\"\"\"\n",
    "\n",
    "    intersections = []\n",
    "    for i, group in enumerate(lines[:-1]):\n",
    "        for next_group in lines[i+1:]:\n",
    "            for line1 in group:\n",
    "                for line2 in next_group:\n",
    "                    intersections.append(intersection(line1, line2)) \n",
    "\n",
    "    return intersections"
   ]
  },
  {
   "cell_type": "code",
   "execution_count": 22,
   "metadata": {},
   "outputs": [],
   "source": [
    "intersections = segmented_intersections(segmented)"
   ]
  },
  {
   "cell_type": "code",
   "execution_count": 23,
   "metadata": {},
   "outputs": [
    {
     "data": {
      "text/plain": [
       "3"
      ]
     },
     "execution_count": 23,
     "metadata": {},
     "output_type": "execute_result"
    }
   ],
   "source": [
    "len(intersections)"
   ]
  },
  {
   "cell_type": "code",
   "execution_count": 24,
   "metadata": {},
   "outputs": [],
   "source": [
    "points = []\n",
    "for point in intersections:\n",
    "    coordinates = tuple(point[0])\n",
    "    points.append(coordinates)\n",
    "#     print(coordinates)\n",
    "    cv2.circle(cdst, coordinates, 3, (0, 255, 0), -1)\n",
    "visualize.visualize_image(cdst)"
   ]
  },
  {
   "cell_type": "code",
   "execution_count": 25,
   "metadata": {},
   "outputs": [
    {
     "data": {
      "text/plain": [
       "array([[266,  24],\n",
       "       [266, 201],\n",
       "       [266, 374]])"
      ]
     },
     "execution_count": 25,
     "metadata": {},
     "output_type": "execute_result"
    }
   ],
   "source": [
    "np.array(points)"
   ]
  },
  {
   "cell_type": "code",
   "execution_count": 26,
   "metadata": {},
   "outputs": [
    {
     "ename": "ValueError",
     "evalue": "n_samples=3 should be >= n_clusters=4",
     "output_type": "error",
     "traceback": [
      "\u001b[0;31m---------------------------------------------------------------------------\u001b[0m",
      "\u001b[0;31mValueError\u001b[0m                                Traceback (most recent call last)",
      "\u001b[0;32m<ipython-input-26-efa074abf18f>\u001b[0m in \u001b[0;36m<module>\u001b[0;34m\u001b[0m\n\u001b[0;32m----> 1\u001b[0;31m \u001b[0mcorners\u001b[0m \u001b[0;34m=\u001b[0m \u001b[0mKMeans\u001b[0m\u001b[0;34m(\u001b[0m\u001b[0mn_clusters\u001b[0m\u001b[0;34m=\u001b[0m\u001b[0;36m4\u001b[0m\u001b[0;34m)\u001b[0m\u001b[0;34m.\u001b[0m\u001b[0mfit\u001b[0m\u001b[0;34m(\u001b[0m\u001b[0mnp\u001b[0m\u001b[0;34m.\u001b[0m\u001b[0marray\u001b[0m\u001b[0;34m(\u001b[0m\u001b[0mpoints\u001b[0m\u001b[0;34m)\u001b[0m\u001b[0;34m)\u001b[0m\u001b[0;34m.\u001b[0m\u001b[0mcluster_centers_\u001b[0m\u001b[0;34m\u001b[0m\u001b[0;34m\u001b[0m\u001b[0m\n\u001b[0m",
      "\u001b[0;32m/usr/lib/python3.7/site-packages/sklearn/cluster/k_means_.py\u001b[0m in \u001b[0;36mfit\u001b[0;34m(self, X, y, sample_weight)\u001b[0m\n\u001b[1;32m    969\u001b[0m                 \u001b[0mtol\u001b[0m\u001b[0;34m=\u001b[0m\u001b[0mself\u001b[0m\u001b[0;34m.\u001b[0m\u001b[0mtol\u001b[0m\u001b[0;34m,\u001b[0m \u001b[0mrandom_state\u001b[0m\u001b[0;34m=\u001b[0m\u001b[0mrandom_state\u001b[0m\u001b[0;34m,\u001b[0m \u001b[0mcopy_x\u001b[0m\u001b[0;34m=\u001b[0m\u001b[0mself\u001b[0m\u001b[0;34m.\u001b[0m\u001b[0mcopy_x\u001b[0m\u001b[0;34m,\u001b[0m\u001b[0;34m\u001b[0m\u001b[0;34m\u001b[0m\u001b[0m\n\u001b[1;32m    970\u001b[0m                 \u001b[0mn_jobs\u001b[0m\u001b[0;34m=\u001b[0m\u001b[0mself\u001b[0m\u001b[0;34m.\u001b[0m\u001b[0mn_jobs\u001b[0m\u001b[0;34m,\u001b[0m \u001b[0malgorithm\u001b[0m\u001b[0;34m=\u001b[0m\u001b[0mself\u001b[0m\u001b[0;34m.\u001b[0m\u001b[0malgorithm\u001b[0m\u001b[0;34m,\u001b[0m\u001b[0;34m\u001b[0m\u001b[0;34m\u001b[0m\u001b[0m\n\u001b[0;32m--> 971\u001b[0;31m                 return_n_iter=True)\n\u001b[0m\u001b[1;32m    972\u001b[0m         \u001b[0;32mreturn\u001b[0m \u001b[0mself\u001b[0m\u001b[0;34m\u001b[0m\u001b[0;34m\u001b[0m\u001b[0m\n\u001b[1;32m    973\u001b[0m \u001b[0;34m\u001b[0m\u001b[0m\n",
      "\u001b[0;32m/usr/lib/python3.7/site-packages/sklearn/cluster/k_means_.py\u001b[0m in \u001b[0;36mk_means\u001b[0;34m(X, n_clusters, sample_weight, init, precompute_distances, n_init, max_iter, verbose, tol, random_state, copy_x, n_jobs, algorithm, return_n_iter)\u001b[0m\n\u001b[1;32m    313\u001b[0m     \u001b[0;32mif\u001b[0m \u001b[0m_num_samples\u001b[0m\u001b[0;34m(\u001b[0m\u001b[0mX\u001b[0m\u001b[0;34m)\u001b[0m \u001b[0;34m<\u001b[0m \u001b[0mn_clusters\u001b[0m\u001b[0;34m:\u001b[0m\u001b[0;34m\u001b[0m\u001b[0;34m\u001b[0m\u001b[0m\n\u001b[1;32m    314\u001b[0m         raise ValueError(\"n_samples=%d should be >= n_clusters=%d\" % (\n\u001b[0;32m--> 315\u001b[0;31m             _num_samples(X), n_clusters))\n\u001b[0m\u001b[1;32m    316\u001b[0m \u001b[0;34m\u001b[0m\u001b[0m\n\u001b[1;32m    317\u001b[0m     \u001b[0mtol\u001b[0m \u001b[0;34m=\u001b[0m \u001b[0m_tolerance\u001b[0m\u001b[0;34m(\u001b[0m\u001b[0mX\u001b[0m\u001b[0;34m,\u001b[0m \u001b[0mtol\u001b[0m\u001b[0;34m)\u001b[0m\u001b[0;34m\u001b[0m\u001b[0;34m\u001b[0m\u001b[0m\n",
      "\u001b[0;31mValueError\u001b[0m: n_samples=3 should be >= n_clusters=4"
     ]
    }
   ],
   "source": [
    "corners = KMeans(n_clusters=4).fit(np.array(points)).cluster_centers_"
   ]
  },
  {
   "cell_type": "code",
   "execution_count": null,
   "metadata": {},
   "outputs": [],
   "source": [
    "for corner in corners:\n",
    "    corner = tuple(np.array(corner, dtype=int))\n",
    "    print(corner)\n",
    "    cv2.circle(cdst, corner, 3, (255, 0, 0), -1)\n",
    "visualize.visualize_image(cdst)"
   ]
  },
  {
   "cell_type": "code",
   "execution_count": null,
   "metadata": {},
   "outputs": [],
   "source": [
    "corners = np.array(corners * resizing_ratio, dtype=int)\n",
    "corners"
   ]
  },
  {
   "cell_type": "code",
   "execution_count": null,
   "metadata": {},
   "outputs": [],
   "source": [
    "# suggestion = np.array([[0,0],[299,280],[0,280],[299,0]], np.float32) * 10\n",
    "# warped = perspective_transform.transform_four_points_to_four_points(initial_image, corners, suggestion)\n",
    "warped = perspective_transform.remove_perspective_distortion(initial_image, corners)\n",
    "visualize.visualize_image(warped)\n",
    "warped.shape, warped.shape[0] / warped.shape[1]"
   ]
  },
  {
   "cell_type": "code",
   "execution_count": null,
   "metadata": {},
   "outputs": [],
   "source": []
  }
 ],
 "metadata": {
  "kernelspec": {
   "display_name": "Python 3",
   "language": "python",
   "name": "python3"
  },
  "language_info": {
   "codemirror_mode": {
    "name": "ipython",
    "version": 3
   },
   "file_extension": ".py",
   "mimetype": "text/x-python",
   "name": "python",
   "nbconvert_exporter": "python",
   "pygments_lexer": "ipython3",
   "version": "3.7.3"
  }
 },
 "nbformat": 4,
 "nbformat_minor": 2
}
