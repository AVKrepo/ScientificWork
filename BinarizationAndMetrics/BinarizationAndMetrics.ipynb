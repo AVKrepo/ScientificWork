{
 "cells": [
  {
   "cell_type": "code",
   "execution_count": 1,
   "metadata": {},
   "outputs": [],
   "source": [
    "import subprocess\n",
    "from matplotlib import pyplot as plt\n",
    "%matplotlib inline\n",
    "import pytesseract\n",
    "from PIL import Image"
   ]
  },
  {
   "cell_type": "code",
   "execution_count": 2,
   "metadata": {},
   "outputs": [],
   "source": [
    "TEXT_IMAGE = \"ideal_version.jpg\"\n",
    "PHOTO_IMAGE = \"0.jpg\"\n",
    "PROCESSED_IMAGE = \"7.jpg\""
   ]
  },
  {
   "cell_type": "code",
   "execution_count": 3,
   "metadata": {},
   "outputs": [],
   "source": [
    "def binarize(input_file_path, output_file_path=\"binarized_image.jpg\"):\n",
    "    process = subprocess.run(['./binarizewolfjolion', input_file_path, output_file_path])\n",
    "    return Image.open(output_file_path)"
   ]
  },
  {
   "cell_type": "code",
   "execution_count": 4,
   "metadata": {},
   "outputs": [],
   "source": [
    "def image_to_text(image_path, binarization_needed=True):\n",
    "    if binarization_needed:\n",
    "        image = binarize(image_path)\n",
    "    else:\n",
    "        image = Image.open(image_path)\n",
    "    text = pytesseract.image_to_string(image)\n",
    "    return text"
   ]
  },
  {
   "cell_type": "markdown",
   "metadata": {},
   "source": [
    "Можно применять разные меры схожести двух текстов:\n",
    "\n",
    "https://stackabuse.com/levenshtein-distance-and-text-similarity-in-python/\n",
    "\n",
    "Остановимся на Cходствe Джаро—Винклера."
   ]
  },
  {
   "cell_type": "code",
   "execution_count": 5,
   "metadata": {},
   "outputs": [],
   "source": [
    "import jellyfish"
   ]
  },
  {
   "cell_type": "code",
   "execution_count": 6,
   "metadata": {},
   "outputs": [],
   "source": [
    "def get_texts_similarity(original_image_path, image_path, binarization_needed=True):\n",
    "    original_text = image_to_text(original_image_path, binarization_needed=False)\n",
    "    text = image_to_text(image_path, binarization_needed=binarization_needed)\n",
    "    return jellyfish.jaro_winkler(original_text, text) "
   ]
  },
  {
   "cell_type": "code",
   "execution_count": 12,
   "metadata": {},
   "outputs": [
    {
     "data": {
      "text/plain": [
       "0.9144614022488351"
      ]
     },
     "execution_count": 12,
     "metadata": {},
     "output_type": "execute_result"
    }
   ],
   "source": [
    "get_texts_similarity(TEXT_IMAGE, PHOTO_IMAGE, binarization_needed=False)"
   ]
  },
  {
   "cell_type": "code",
   "execution_count": null,
   "metadata": {},
   "outputs": [],
   "source": []
  },
  {
   "cell_type": "code",
   "execution_count": null,
   "metadata": {},
   "outputs": [],
   "source": []
  },
  {
   "cell_type": "code",
   "execution_count": null,
   "metadata": {},
   "outputs": [],
   "source": []
  },
  {
   "cell_type": "code",
   "execution_count": null,
   "metadata": {},
   "outputs": [],
   "source": []
  },
  {
   "cell_type": "code",
   "execution_count": null,
   "metadata": {},
   "outputs": [],
   "source": []
  },
  {
   "cell_type": "code",
   "execution_count": null,
   "metadata": {},
   "outputs": [],
   "source": []
  }
 ],
 "metadata": {
  "kernelspec": {
   "display_name": "PyTesseract",
   "language": "python",
   "name": "pytessetact"
  },
  "language_info": {
   "codemirror_mode": {
    "name": "ipython",
    "version": 3
   },
   "file_extension": ".py",
   "mimetype": "text/x-python",
   "name": "python",
   "nbconvert_exporter": "python",
   "pygments_lexer": "ipython3",
   "version": "3.7.3"
  }
 },
 "nbformat": 4,
 "nbformat_minor": 2
}
