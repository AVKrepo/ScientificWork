{
 "cells": [
  {
   "cell_type": "code",
   "execution_count": 1,
   "metadata": {},
   "outputs": [],
   "source": [
    "import subprocess\n",
    "from matplotlib import pyplot as plt\n",
    "%matplotlib inline\n",
    "import pytesseract\n",
    "from PIL import Image"
   ]
  },
  {
   "cell_type": "code",
   "execution_count": 2,
   "metadata": {},
   "outputs": [],
   "source": [
    "TEXT_IMAGE = \"ideal_version.jpg\"\n",
    "PHOTO_IMAGE = \"new0.jpg\"\n",
    "PROCESSED_IMAGE = \"new2.jpg\""
   ]
  },
  {
   "cell_type": "code",
   "execution_count": 3,
   "metadata": {},
   "outputs": [],
   "source": [
    "def binarize(input_file_path, output_file_path=\"binarized_image.jpg\"):\n",
    "    process = subprocess.run(['./binarizewolfjolion', input_file_path, output_file_path])\n",
    "    return Image.open(output_file_path)"
   ]
  },
  {
   "cell_type": "code",
   "execution_count": 4,
   "metadata": {},
   "outputs": [],
   "source": [
    "def image_to_text(image_path, binarization_needed=True):\n",
    "    if binarization_needed:\n",
    "        image = binarize(image_path)\n",
    "    else:\n",
    "        image = Image.open(image_path)\n",
    "    text = pytesseract.image_to_string(image)\n",
    "    return text"
   ]
  },
  {
   "cell_type": "markdown",
   "metadata": {},
   "source": [
    "Можно применять разные меры схожести двух текстов:\n",
    "\n",
    "https://stackabuse.com/levenshtein-distance-and-text-similarity-in-python/\n",
    "\n",
    "Остановимся на Cходствe Джаро—Винклера."
   ]
  },
  {
   "cell_type": "code",
   "execution_count": 5,
   "metadata": {},
   "outputs": [],
   "source": [
    "import jellyfish"
   ]
  },
  {
   "cell_type": "code",
   "execution_count": 6,
   "metadata": {},
   "outputs": [],
   "source": [
    "def get_texts_similarity(original_image_path, image_path, binarization_needed=True):\n",
    "    original_text = image_to_text(original_image_path, binarization_needed=binarization_needed)\n",
    "    print(original_text, \"\\n\\n\\n\")\n",
    "    text = image_to_text(image_path, binarization_needed=binarization_needed)\n",
    "    print(text)\n",
    "    return jellyfish.jaro_winkler(original_text, text) "
   ]
  },
  {
   "cell_type": "code",
   "execution_count": 7,
   "metadata": {},
   "outputs": [
    {
     "name": "stdout",
     "output_type": "stream",
     "text": [
      "DANDELION WINE\n",
      "\n",
      "It was a quiet morning, the town covered over with darkness and at ease in bed. Summer gathered in the\n",
      "weather, the wind had the proper touch, the breathing of the world was long and warm and slow. You had only to\n",
      "rise, lean from your window, and know that this indeed was the first real time of freedom and living, this was the\n",
      "first morning of summer.\n",
      "\n",
      "Douglas Spaulding, twelve, freshly wakened, let summer idle him on its early-morning stream. Lying in his third-\n",
      "story cupola bedroom, he felt the tall power it gave him, riding high in the June wind, the grandest tower in town. At\n",
      "night, when the trees washed together, he flashed his gaze like a beacon from this lighthouse in all directions over\n",
      "swarming seas of elm and oak and maple. Now . . .\n",
      "\n",
      "“Boy,” whispered Douglas.\n",
      "\n",
      "A whole summer ahead to cross off the calendar, day by day. Like the goddess Siva in the travel books, he saw his\n",
      "hands jump everywhere, pluck sour apples, peaches, and midnight plums. He would be clothed in trees and bushes\n",
      "and rivers. He would freeze, gladly, in the hoarfrosted icehouse door. He would bake, happily, with ten thousand\n",
      "chickens, in Grandma’s kitchen.\n",
      "\n",
      "But now—a familiar task awaited him.\n",
      "\n",
      "One night each week he was allowed to leave his father, his mother, and his younger brother Tom asleep in their\n",
      "small house next door and run here, up the dark spiral stairs to his grandparents’ cupola, and in this sorcerer’s tower\n",
      "sleep with thunders and visions, to wake before the crystal jingle of milk bottles and perform his ritual magic.\n",
      "\n",
      "He stood at the open window in the dark, took a deep breath and exhaled.\n",
      "\n",
      "The street lights, like candles on a black cake, went out. He exhaled again and again and the stars began to\n",
      "vanish.\n",
      "\n",
      "Douglas smiled. He pointed a finger.\n",
      "There, and there. Now over here, and here. . . .\n",
      "\n",
      "Yellow squares were cut in the dim morning earth as house lights winked slowly on. A sprinkle of windows came\n",
      "suddenly alight miles off in dawn country.\n",
      "\n",
      "“Everyone yawn. Everyone up.”\n",
      "The great house stirred below.\n",
      "\n",
      "“Grandpa, get your teeth from the water glass!” He waited a decent interval. “Grandma and Great-grandma, fry\n",
      "hot cakes!”\n",
      "\n",
      "The warm scent of fried batter rose in the drafty halls to stir the boarders, the aunts, the uncles, the visiting\n",
      "cousins, in their rooms.\n",
      "\n",
      "“Street where all the Old People live, wake up! Miss Helen Loomis, Colonel Freeleigh, Miss Bentley! Cough, get\n",
      "up, take pills, move around! Mr. Jonas, hitch up your horse, get your junk wagon out and around!”\n",
      "\n",
      "They climbed out, carrying the blue tin pails away from the lonely dirt road into the smell of fallen rain.\n",
      "\n",
      "“Look for bees,” said Father. “Bees hang around grapes like boys around kitchens, Doug?” Douglas looked up\n",
      "suddenly.\n",
      "\n",
      "“You’re off a million miles,” said Father. “Look alive. Walk with us.” \n",
      "\n",
      "\n",
      "\n",
      "\n"
     ]
    },
    {
     "data": {
      "text/plain": [
       "0.0"
      ]
     },
     "execution_count": 7,
     "metadata": {},
     "output_type": "execute_result"
    }
   ],
   "source": [
    "get_texts_similarity(TEXT_IMAGE, PHOTO_IMAGE, binarization_needed=False)"
   ]
  },
  {
   "cell_type": "code",
   "execution_count": 9,
   "metadata": {},
   "outputs": [
    {
     "name": "stdout",
     "output_type": "stream",
     "text": [
      "DANDELION WINE\n",
      "\n",
      "It was a quiet morning, the town covered over with darkness and at ease in bed. Summer gathered in the\n",
      "weather, the wind had the proper touch, the breathing of the world was long and warm and slow. You had only to\n",
      "rise, lean from your window, and know that this indeed was the first real time of freedom and living, this was the\n",
      "first morning of summer.\n",
      "\n",
      "Douglas Spaulding, twelve, freshly wakened, let summer idle him on its early-morning stream. Lying in his third-\n",
      "story cupola bedroom, he felt the tall power it gave him, riding high in the June wind, the grandest tower in town, At\n",
      "night, when the trees washed together, he flashed his gaze like a beacon from this lighthouse in all directions over\n",
      "swarming seas of elm and oak and maple. Now . ..\n",
      "\n",
      "“Boy,” whispered Douglas.\n",
      "\n",
      "A whole summer ahead to cross off the calendar, day by day. Like the goddess Siva in the travel books, he saw his\n",
      "hands jump everywhere, pluck sour apples, peaches, and midnight plums. He would be clothed in trees and bushes\n",
      "and rivers. He would freeze, gladly, in the hoarfrosted icehouse door. He would bake, happily, with ten thousand\n",
      "chickens, in Grandma’s kitchen.\n",
      "\n",
      "But now—a familiar task awaited him.\n",
      "\n",
      "One night each week he was allowed to leave his father, his mother, and his younger brother Tom asleep in their\n",
      "small house next door and run here, up the dark spiral stairs to his grandparents’ cupola, and in this sorcerer’s tower\n",
      "sleep with thunders and visions, to wake before the crystal jingle of milk bottles and perform his ritual magic.\n",
      "\n",
      "He stood at the open window in the dark, took a deep breath and exhaled.\n",
      "\n",
      "The street lights, like candles on a black cake, went out. He exhaled again and again and the stars began to\n",
      "vanish.\n",
      "\n",
      "Douglas smiled. He pointed a finger.\n",
      "There, and there. Now over here, and here . ..\n",
      "\n",
      "Yellow squares were cut in the dim morning earth as house lights winked slowly on. A sprinkle of windows came\n",
      "suddenly alight miles off in dawn country.\n",
      "\n",
      "“Everyone yawn. Everyone up.” |\n",
      "The great house stirred below.\n",
      "\n",
      "“Grandpa, get your teeth from the water glass!” He waited a decent interval. “Grandma and Great-grandma, fry\n",
      "hot cakes!”\n",
      "\n",
      "The warm scent of fried batter rose in the drafty halls to stir the boarders, the aunts, the uncles, the visiting\n",
      "cousins, in their rooms.\n",
      "\n",
      "“Street where all the Old People live, wake up! Miss Helen Loomis, Colonel Freeleigh, Miss Bentley! Cough, get\n",
      "up, take pills, move around! Mr. Jonas, hitch up your horse, get your junk wagon out and around|”\n",
      "\n",
      "They climbed out, carrying the blue tin pails away from the lonely dirt road into the smell of fallen rain. 1\n",
      "\n",
      "“Look for bees,” said Father. “Bees hang around grapes like boys around kitchens, Doug?” Douglas looked up\n",
      "suddenly.\n",
      "\n",
      "“You’re off a million miles,” said Father, “Look alive. Walk with us.” \n",
      "\n",
      "\n",
      "\n",
      "DANDELION WINE\n",
      "\n",
      "It was a quiet morning, the town covered over with darkness and at ease in bed. Summer gathered in the\n",
      "weather, the wind had the proper touch, the breathing of the world was long and warm and slow. You had only to\n",
      "rise, lean from your window, and know that this indeed was the first real time of freedom and living, this was the\n",
      "first morning of summer.\n",
      "\n",
      "Douglas Spaulding, twelve, freshly wakened, let summer idle him on its early-morning stream. Lying in his third-\n",
      "story cupola bedroom, he felt the tall power it gave him, riding high in the June wind, the grandest tower in town, At\n",
      "night, when the trees washed together, he flashed his gaze like a beacon from this lighthouse in all directions over\n",
      "swarming seas of elm and oak and maple. Now . ..\n",
      "\n",
      "“Boy,” whispered Douglas.\n",
      "\n",
      "A whole summer ahead to cross off the calendar, day by day. Like the goddess Siva in the travel books, he saw his\n",
      "hands jump everywhere, pluck sour apples, peaches, and midnight plums. He would be clothed in trees and bushes\n",
      "and rivers. He would freeze, gladly, in the hoarfrosted icehouse door. He would bake, happily, with ten thousand\n",
      "chickens, in Grandma’s kitchen.\n",
      "\n",
      "But now—a familiar task awaited him.\n",
      "\n",
      "One night each week he was allowed to leave his father, his mother, and his younger brother Tom asleep in their\n",
      "small house next door and run here, up the dark spiral stairs to his grandparents’ cupola, and in this sorcerer’s tower\n",
      "sleep with thunders and visions, to wake before the crystal jingle of milk bottles and perform his ritual magic.\n",
      "\n",
      "He stood at the open window in the dark, took a deep breath and exhaled.\n",
      "\n",
      "The street lights, like candles on a black cake, went out. He exhaled again and again and the stars began to\n",
      "vanish.\n",
      "\n",
      "Douglas smiled. He pointed a finger.\n",
      "There, and there. Now over here, and here . ..\n",
      "\n",
      "Yellow squares were cut in the dim morning earth as house lights winked slowly on. A sprinkle of windows came\n",
      "suddenly alight miles off in dawn country.\n",
      "\n",
      "“Everyone yawn. Everyone up.” |\n",
      "The great house stirred below.\n",
      "\n",
      "“Grandpa, get your teeth from the water glass!” He waited a decent interval. “Grandma and Great-grandma, fry\n",
      "hot cakes!”\n",
      "\n",
      "The warm scent of fried batter rose in the drafty halls to stir the boarders, the aunts, the uncles, the visiting\n",
      "cousins, in their rooms.\n",
      "\n",
      "“Street where all the Old People live, wake up! Miss Helen Loomis, Colonel Freeleigh, Miss Bentley! Cough, get\n",
      "up, take pills, move around! Mr. Jonas, hitch up your horse, get your junk wagon out and around|”\n",
      "\n",
      "They climbed out, carrying the blue tin pails away from the lonely dirt road into the smell of fallen rain. 1\n",
      "\n",
      "“Look for bees,” said Father. “Bees hang around grapes like boys around kitchens, Doug?” Douglas looked up\n",
      "suddenly.\n",
      "\n",
      "“You’re off a million miles,” said Father, “Look alive. Walk with us.”\n"
     ]
    },
    {
     "data": {
      "text/plain": [
       "1.0"
      ]
     },
     "execution_count": 9,
     "metadata": {},
     "output_type": "execute_result"
    }
   ],
   "source": [
    "get_texts_similarity(TEXT_IMAGE, PROCESSED_IMAGE, binarization_needed=True)"
   ]
  },
  {
   "cell_type": "code",
   "execution_count": null,
   "metadata": {},
   "outputs": [],
   "source": []
  },
  {
   "cell_type": "code",
   "execution_count": null,
   "metadata": {},
   "outputs": [],
   "source": []
  },
  {
   "cell_type": "code",
   "execution_count": null,
   "metadata": {},
   "outputs": [],
   "source": []
  },
  {
   "cell_type": "code",
   "execution_count": null,
   "metadata": {},
   "outputs": [],
   "source": []
  },
  {
   "cell_type": "code",
   "execution_count": null,
   "metadata": {},
   "outputs": [],
   "source": []
  }
 ],
 "metadata": {
  "kernelspec": {
   "display_name": "PyTesseract",
   "language": "python",
   "name": "pytessetact"
  },
  "language_info": {
   "codemirror_mode": {
    "name": "ipython",
    "version": 3
   },
   "file_extension": ".py",
   "mimetype": "text/x-python",
   "name": "python",
   "nbconvert_exporter": "python",
   "pygments_lexer": "ipython3",
   "version": "3.7.3"
  }
 },
 "nbformat": 4,
 "nbformat_minor": 2
}
